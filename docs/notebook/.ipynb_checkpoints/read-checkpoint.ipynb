{
 "cells": [
  {
   "cell_type": "markdown",
   "metadata": {},
   "source": [
    "# FISSPy read"
   ]
  },
  {
   "cell_type": "markdown",
   "metadata": {},
   "source": [
    "## Overview\n",
    "\n",
    "One of the core modules in FISSPy is read module. By using the classes in this module, you can easily read or analysis the observed data taken by FISS. Since there are a few kinds of FISS data, such as raw data, processed data, compressed data and etc..., there are a few classes to read each kinds of data types. All of the classes include the data and header file, and can show the data image interactively."
   ]
  },
  {
   "cell_type": "markdown",
   "metadata": {},
   "source": [
    "## Read the processed or compressed data"
   ]
  },
  {
   "cell_type": "markdown",
   "metadata": {},
   "source": [
    "#### class <span style=\"color:blue\">fisspy.read.FISS</span>(file, x1=0, x2=None, y1=0, y2=None, ncoeff=False, noiseSuppression=False, simpleWaveCalib=True, absScale=True, **kwargs)\n",
    "                 "
   ]
  },
  {
   "cell_type": "code",
   "execution_count": null,
   "metadata": {},
   "outputs": [],
   "source": []
  }
 ],
 "metadata": {
  "kernelspec": {
   "display_name": "Python 3",
   "language": "python",
   "name": "python3"
  },
  "language_info": {
   "codemirror_mode": {
    "name": "ipython",
    "version": 3
   },
   "file_extension": ".py",
   "mimetype": "text/x-python",
   "name": "python",
   "nbconvert_exporter": "python",
   "pygments_lexer": "ipython3",
   "version": "3.7.4"
  }
 },
 "nbformat": 4,
 "nbformat_minor": 2
}
